{
  "cells": [
    {
      "cell_type": "code",
      "execution_count": 1,
      "metadata": {
        "id": "5w6mQ27HmXww"
      },
      "outputs": [],
      "source": [
        "#라이브러리 import\n",
        "import os\n",
        "import cv2\n",
        "import random\n",
        "import numpy as np\n",
        "import tensorflow as tf\n",
        "import matplotlib.pyplot as plt\n",
        "\n",
        "from tensorflow import keras\n",
        "from tensorflow.keras import layers\n",
        "from tensorflow.keras.preprocessing.image import ImageDataGenerator"
      ]
    },
    {
      "cell_type": "code",
      "execution_count": null,
      "metadata": {
        "id": "aJaOIKxDm98z"
      },
      "outputs": [],
      "source": [
        "#keras에서 지원하는 mnist 데이터 불러오기\n",
        "mnist = tf.keras.datasets.mnist\n",
        "\n",
        "(x_train, y_train), (x_test, y_test) = mnist.load_data()\n",
        "x_train, x_test = x_train / 255.0, x_test / 255.0\n",
        "\n",
        "#데이터 정보\n",
        "print(\"학습 데이터       \", x_train.shape) #(데이터갯수, 픽셀수, 픽셀수)\n",
        "print(\"학습데이터 라벨   \", y_train.shape) #(데이터의라벨)\n",
        "print(\"테스트 데이터     \", x_test.shape)  #(데이터갯수, 픽셀수, 픽셀수)\n",
        "print(\"테스트 데이터 라벨\",y_test.shape)   #(데이터의라벨)"
      ]
    },
    {
      "cell_type": "code",
      "execution_count": null,
      "metadata": {
        "id": "RXkWWbEJnL98"
      },
      "outputs": [],
      "source": [
        "#데이터 시각화\n",
        "plt.figure(figsize=(10, 10))\n",
        "c = 0\n",
        "for x in range(5):\n",
        "    for y in range(3):\n",
        "        plt.subplot(5,3,c+1)\n",
        "        plt.imshow(x_train[c], cmap='gray')\n",
        "        c+=1\n",
        "\n",
        "plt.show()\n",
        "\n",
        "#각 이미지의 라벨데이터 확인\n",
        "print()\n",
        "print(y_train[:15])"
      ]
    },
    {
      "cell_type": "code",
      "execution_count": null,
      "metadata": {
        "id": "5BTxb2h-sGnA"
      },
      "outputs": [],
      "source": [
        "#학습 설정\n",
        "number = 10 #라벨의 총 갯수\n",
        "epoch = 5   #학습 횟수\n",
        "\n",
        "# 모델 레이어 설정\n",
        "# Conv, Pooling 있음\n",
        "model = tf.keras.models.Sequential([\n",
        "    tf.keras.layers.Conv2D(input_shape=(28, 28, 1), kernel_size=3, filters=64),\n",
        "    tf.keras.layers.MaxPool2D(pool_size=(2,2), strides=(1,1)),\n",
        "    tf.keras.layers.Conv2D(input_shape=(28, 28, 1), kernel_size=3, filters=32),\n",
        "    tf.keras.layers.MaxPool2D(pool_size=(2,2), strides=(1,1)),\n",
        "    tf.keras.layers.Flatten(),\n",
        "\n",
        "    tf.keras.layers.Dense(64, activation='relu'),\n",
        "    tf.keras.layers.Dropout(0.2),\n",
        "    tf.keras.layers.Dense(32, activation='relu'),\n",
        "    tf.keras.layers.Dropout(0.2),\n",
        "    tf.keras.layers.Dense(10, activation='softmax'),\n",
        "])\n",
        "\n",
        "# 옵티마이저와 손실함수를 설정하고 정확도 매트릭스가 나오게 컴파일\n",
        "model.compile(optimizer='adam',\n",
        "              loss='sparse_categorical_crossentropy',\n",
        "              metrics=['accuracy'])\n",
        "\n",
        "# 모델의 모습을 표로 출력\n",
        "model.summary()\n",
        "\n",
        "# 위의 레이어를 가진 모델로 학습시킴\n",
        "print(model.fit(x_train, y_train, epochs=epoch))\n"
      ]
    },
    {
      "cell_type": "code",
      "source": [
        "# 테스트 데이터로 검증을 해봄\n",
        "print()\n",
        "print(model.evaluate(x_test, y_test))#로스값 ,정확도\n",
        "print(\"[loss                 accuracy          ]\")"
      ],
      "metadata": {
        "id": "63ue9eordwyo"
      },
      "execution_count": null,
      "outputs": []
    },
    {
      "cell_type": "code",
      "execution_count": null,
      "metadata": {
        "id": "LzZMv_FZsv6C"
      },
      "outputs": [],
      "source": [
        "# 파일 업로드 기능 실행\n",
        "from google.colab import files\n",
        "uploaded = files.upload()\n",
        "\n",
        "# 업로드된 파일 정보 출력\n",
        "for fn in uploaded.keys():\n",
        "    print('User uploaded file \"{name}\" with length {length} bytes'.format(\n",
        "        name=fn, length=len(uploaded[fn])))"
      ]
    },
    {
      "cell_type": "code",
      "execution_count": null,
      "metadata": {
        "id": "dSMA7zsRs3r8"
      },
      "outputs": [],
      "source": [
        "#불러온 이미지 전처리 및 시각화\n",
        "src = cv2.imread('./myNum.jpg', cv2.IMREAD_GRAYSCALE)\n",
        "ret , binary = cv2.threshold(src,170,255,cv2.THRESH_BINARY_INV)\n",
        "myNum = np.asarray(cv2.resize(binary, dsize=(28, 28), interpolation=cv2.INTER_AREA))/255\n",
        "\n",
        "plt.title('The number I write')\n",
        "plt.imshow(myNum, cmap='gray')\n",
        "print(myNum.shape)"
      ]
    },
    {
      "cell_type": "code",
      "execution_count": null,
      "metadata": {
        "id": "aGCeaNwQtJSl"
      },
      "outputs": [],
      "source": [
        "#불러온 이미지 모델에 적용\n",
        "categoris = [0, 1, 2, 3, 4, 5, 6, 7, 8, 9]\n",
        "\n",
        "print(np.argmax(model.predict(myNum.reshape(-1, 28, 28, 1))[0]))"
      ]
    },
    {
      "cell_type": "code",
      "execution_count": null,
      "metadata": {
        "id": "k78bPceKtMqL"
      },
      "outputs": [],
      "source": [
        "# 테스트 세트에 대한 레이블 예측\n",
        "predicted_labels = np.argmax(model.predict(x_test), axis=1)\n",
        "\n",
        "# 잘못 분류된 샘플의 인덱스 찾기\n",
        "misclassified_indices = np.where(predicted_labels != y_test)[0]\n",
        "\n",
        "# 16개의 잘못 분류된 이미지를 랜덤하게 선택하여 표시\n",
        "samples = random.choices(population=misclassified_indices, k=16)\n",
        "\n",
        "count = 0\n",
        "nrows = ncols = 4\n",
        "\n",
        "plt.figure(figsize=(12, 8))\n",
        "\n",
        "for n in samples:\n",
        "    count += 1\n",
        "    plt.subplot(nrows, ncols, count)\n",
        "    plt.imshow(x_test[n], cmap='Greys', interpolation='nearest')\n",
        "    plt.title(f\"True:{y_test[n]}, Predicted:{predicted_labels[n]}\")\n",
        "    plt.axis('off')\n",
        "\n",
        "plt.tight_layout()\n",
        "plt.show()\n"
      ]
    },
    {
      "cell_type": "code",
      "execution_count": null,
      "metadata": {
        "id": "3v53fRMYtZOn"
      },
      "outputs": [],
      "source": []
    }
  ],
  "metadata": {
    "colab": {
      "provenance": [],
      "gpuType": "T4"
    },
    "kernelspec": {
      "display_name": "Python 3",
      "name": "python3"
    },
    "language_info": {
      "name": "python"
    },
    "accelerator": "GPU"
  },
  "nbformat": 4,
  "nbformat_minor": 0
}