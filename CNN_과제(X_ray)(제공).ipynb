{
  "nbformat": 4,
  "nbformat_minor": 0,
  "metadata": {
    "colab": {
      "provenance": [],
      "gpuType": "T4"
    },
    "kernelspec": {
      "name": "python3",
      "display_name": "Python 3"
    },
    "language_info": {
      "name": "python"
    },
    "accelerator": "GPU"
  },
  "cells": [
    {
      "cell_type": "code",
      "execution_count": null,
      "metadata": {
        "id": "iO_J8qXzbBvl"
      },
      "outputs": [],
      "source": [
        "#라이브러리 import\n",
        "import os\n",
        "import cv2\n",
        "import random\n",
        "import numpy as np\n",
        "import tensorflow as tf\n",
        "import matplotlib.pyplot as plt\n",
        "\n",
        "from tensorflow import keras\n",
        "from tensorflow.keras import layers\n",
        "from tensorflow.keras.preprocessing.image import ImageDataGenerator"
      ]
    },
    {
      "cell_type": "code",
      "source": [
        "train_dir = \"/content/drive/MyDrive/강의자료/xray_dataset_covid19/train\"\n",
        "test_dir = \"/content/drive/MyDrive/강의자료/xray_dataset_covid19/test\"\n",
        "\n",
        "classes_train = os.listdir(train_dir)\n",
        "classes_test = os.listdir(test_dir)"
      ],
      "metadata": {
        "id": "N6VMjq8VbEVx"
      },
      "execution_count": null,
      "outputs": []
    },
    {
      "cell_type": "code",
      "source": [
        "train_dict = {}\n",
        "test_dict = {}\n",
        "\n",
        "for classe in classes_train:\n",
        "    train_dict[classe] = len(os.listdir(os.path.join(train_dir, classe)))\n",
        "\n",
        "for classe in classes_test:\n",
        "    test_dict[classe] = len(os.listdir(os.path.join(test_dir, classe)))"
      ],
      "metadata": {
        "id": "hCpDydFjhzOC"
      },
      "execution_count": null,
      "outputs": []
    },
    {
      "cell_type": "code",
      "source": [
        "# train\n",
        "train_datagen = ImageDataGenerator(\n",
        "    zoom_range = 0.1,\n",
        "    horizontal_flip = True,\n",
        "    rescale = 1.0/255.0,\n",
        "    width_shift_range = 0.10,\n",
        "    height_shift_range = 0.10,\n",
        "    shear_range = 0.1,\n",
        "    fill_mode = 'nearest'\n",
        ")\n",
        "\n",
        "train_generator = train_datagen.flow_from_directory(\n",
        "    train_dir,\n",
        "    class_mode = 'binary',\n",
        "    color_mode = 'rgb',\n",
        "    batch_size = 32,\n",
        "    target_size = (200, 200)\n",
        ")"
      ],
      "metadata": {
        "id": "9jAm1Y1Vibri"
      },
      "execution_count": null,
      "outputs": []
    },
    {
      "cell_type": "code",
      "source": [
        "x_train, y_train = next(train_generator)"
      ],
      "metadata": {
        "id": "GaAvKJLOh6v5"
      },
      "execution_count": null,
      "outputs": []
    },
    {
      "cell_type": "code",
      "source": [
        "# test\n",
        "test_datagen = ImageDataGenerator(\n",
        "    rescale = 1.0/255.0,\n",
        ")\n",
        "\n",
        "test_generator = train_datagen.flow_from_directory(\n",
        "    test_dir,\n",
        "    class_mode = 'binary',\n",
        "    color_mode = 'rgb',\n",
        "    batch_size = 32,\n",
        "    target_size = (200, 200)\n",
        ")"
      ],
      "metadata": {
        "id": "8UeLmPmXiV21"
      },
      "execution_count": null,
      "outputs": []
    },
    {
      "cell_type": "code",
      "source": [
        "x_test, y_test = next(test_generator)"
      ],
      "metadata": {
        "id": "YyS4Kctxivkv"
      },
      "execution_count": null,
      "outputs": []
    },
    {
      "cell_type": "code",
      "source": [
        "#데이터 시각화\n"
      ],
      "metadata": {
        "id": "6Jxa6aJ7jAff"
      },
      "execution_count": null,
      "outputs": []
    },
    {
      "cell_type": "code",
      "source": [
        "# 학습 설정\n",
        "\n",
        "# 모델 레이어 설정\n",
        "# Conv, Pooling 있음\n",
        "\n",
        "# 옵티마이저와 손실함수를 설정하고 정확도 매트릭스가 나오게 컴파일\n",
        "\n",
        "# 모델의 모습을 표로 출력\n",
        "\n",
        "\n",
        "# 위의 레이어를 가진 모델로 학습시킴\n"
      ],
      "metadata": {
        "id": "_V-uGPBgjG6Y"
      },
      "execution_count": null,
      "outputs": []
    },
    {
      "cell_type": "code",
      "source": [
        "# 테스트 데이터로 검증을 해봄\n",
        "\n"
      ],
      "metadata": {
        "id": "5rUm5PhrdrDv"
      },
      "execution_count": null,
      "outputs": []
    },
    {
      "cell_type": "code",
      "source": [
        "# 파일 업로드 기능 실행\n"
      ],
      "metadata": {
        "id": "Moc4N3uJj6ma"
      },
      "execution_count": null,
      "outputs": []
    },
    {
      "cell_type": "code",
      "source": [
        "# 이미지를 읽어옴\n",
        "image_path = \"/content/KakaoTalk_20231107_113954825.jpg\"  # 이미지 파일 경로\n",
        "myNum = cv2.imread(image_path, cv2.IMREAD_COLOR)\n",
        "\n",
        "# 이미지를 모델의 입력에 맞게 전처리\n",
        "myNum = cv2.resize(myNum, (200, 200))  # 이미지 크기를 조정\n",
        "myNum = myNum.astype('float32') / 255.0  # 이미지 정규화\n",
        "myNum = np.expand_dims(myNum, axis=0)  # 배치 차원을 추가\n",
        "\n",
        "# 예측 수행\n",
        "result = modified_model.predict(myNum)\n",
        "\n",
        "# 결과 출력\n",
        "predicted_label = np.argmax(result)\n",
        "prediction_text = \"normal\" if predicted_label == 0 else \"pneumonia\"\n",
        "print(\"Predicted Label:\", prediction_text)\n",
        "\n",
        "# 이미지를 plt로 보여줌\n",
        "plt.imshow(cv2.cvtColor(myNum.squeeze(), cv2.COLOR_BGR2RGB))\n",
        "plt.axis('off')\n",
        "plt.show()\n"
      ],
      "metadata": {
        "id": "UZ3AWGbBxWjj"
      },
      "execution_count": null,
      "outputs": []
    },
    {
      "cell_type": "code",
      "source": [],
      "metadata": {
        "id": "1sr7qEQz0Tl9"
      },
      "execution_count": null,
      "outputs": []
    }
  ]
}